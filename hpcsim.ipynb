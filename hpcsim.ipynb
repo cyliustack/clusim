{
 "cells": [
  {
   "cell_type": "markdown",
   "metadata": {},
   "source": [
    "# Hybrid Measurement-Modeling-based Simulator for HPC-Applicatoin Co-design\n",
    "* Prepare HPCSim\n",
    "    - pip install numpy pandas matplotlib ipywidgets jupyterlab\n",
    "* Run \n",
    "    - launch jupyter-lab, and access IDE via browser\n",
    "    - open hpcsim.ipynb"
   ]
  },
  {
   "cell_type": "code",
   "execution_count": 5,
   "metadata": {},
   "outputs": [],
   "source": [
    "import numpy as np\n",
    "import pandas as pd\n",
    "import matplotlib.pyplot as plt\n",
    "import ipywidgets as widgets\n",
    "from IPython import display\n",
    "%matplotlib inline"
   ]
  },
  {
   "cell_type": "code",
   "execution_count": 6,
   "metadata": {},
   "outputs": [],
   "source": [
    "class Machine(object):\n",
    "    def __init__(self, name, num_gpus):\n",
    "        self.name = name\n",
    "        self.num_gpus = num_gpus\n",
    "        self.num_cpus = 2\n",
    "        self.num_vcores = self.num_cpus*18*2 # vcores = sockets/cores/threads\n",
    "        self.price = 0\n",
    "        self.items = {'v100':9000, 'p100':8000, 't4':4000, 'gold':5000}\n",
    "        if name == 'HGX-1':\n",
    "            self.gpu_type = 'v100'\n",
    "            self.cpu_type = 'gold'\n",
    "            self.bw_h2d = 10*1024**3\n",
    "            self.bw_d2h = 10*1024**3\n",
    "            self.bw_p2p = 22*1024**3\n",
    "            self.bw_net = 100*1024**3/8\n",
    "            self.gpu_hp_flops = 125*1000**4\n",
    "            self.gpu_sp_flops = 15.7*1000**4\n",
    "            self.gpu_dp_flops = 7.8*1000**4\n",
    "        if name == 'HGX-2':\n",
    "            self.gpu_type = 'v100'\n",
    "            self.cpu_type = 'gold'\n",
    "            self.bw_h2d = 10*1024**3\n",
    "            self.bw_d2h = 10*1024**3\n",
    "            self.bw_p2p = 150*1024**3\n",
    "            self.bw_net = 100*1024**3/8\n",
    "            self.gpu_hp_flops = 125*1000**4\n",
    "            self.gpu_sp_flops = 15.7*1000**4\n",
    "            self.gpu_dp_flops = 7.8*1000**4\n",
    "        if name == 'StarWars':\n",
    "            self.gpu_type = 't4'\n",
    "            self.cpu_type = 'gold'\n",
    "            self.bw_h2d = 10*1024**3\n",
    "            self.bw_d2h = 10*1024**3\n",
    "            self.bw_p2p = 10*1024**3\n",
    "            self.bw_net =  100*1024**3/8\n",
    "            self.gpu_hp_flops = 65.0*1000**4\n",
    "            self.gpu_sp_flops = 8.1*1000**4\n",
    "            self.gpu_dp_flops = 8.1*1000**4\n",
    "        if name == 'HGX-1-P':\n",
    "            self.gpu_type = 'p100'\n",
    "            self.cpu_type = 'gold'           \n",
    "            self.bw_h2d = 10*1024**3\n",
    "            self.bw_d2h = 10*1024**3\n",
    "            self.bw_net = 100*1024**3/8\n",
    "            self.bw_p2p = 18*1024**3\n",
    "            self.gpu_hp_flops = 21.2*1000**4\n",
    "            self.gpu_sp_flops = 10.6*1000**4\n",
    "            self.gpu_dp_flops = 5.3*1000**4\n",
    "        \n",
    "        self.price = self.num_gpus * self.items[self.gpu_type] + self.num_cpus * self.items[self.cpu_type]\n",
    "        \n",
    "        #Base Spec. for performance/CPV comparison\n",
    "        self.base_gpu_hp_flops = 125*1000**4\n",
    "        self.base_gpu_sp_flops = 15.7*1000**4\n",
    "        self.base_gpu_dp_flops = 7.8*1000**4\n",
    "        self.base_num_gpus = 8\n",
    "        self.base_num_cpus = 2*18*2 # vcores = sockets/cores/threads\n",
    "\n",
    "    def info(self):\n",
    "        print(self.name)\n",
    "        print(self.bw_h2d)\n",
    "        print(self.bw_d2h)\n",
    "        print(self.bw_net)\n",
    "        print('')    "
   ]
  },
  {
   "cell_type": "code",
   "execution_count": 7,
   "metadata": {},
   "outputs": [],
   "source": [
    "class Application(object):\n",
    "    def __init__(self, name):\n",
    "        self.name = name\n",
    "        self.weights = 0\n",
    "        self.flops = 0\n",
    "        self.t_fw = 0\n",
    "        self.t_bw = 0\n",
    "        self.t_cpu = 0\n",
    "        if name == 'resnet50':\n",
    "            self.weights = 98*1024**2\n",
    "            self.flops = 3.9*1024**3\n",
    "            self.t_fw = 0.1\n",
    "            self.t_bw = self.t_fw*2\n",
    "            self.t_cpu = 0.02\n",
    "        if name == 'inceptionv3':\n",
    "            self.weights = 89*1024**2\n",
    "            self.flops = 6.0*1024**3\n",
    "            self.t_fw = 0.15\n",
    "            self.t_bw = self.t_fw*2\n",
    "            self.t_cpu = 0.01\n",
    "        if name == 'resnet152':\n",
    "            self.weights = 230*1024**2\n",
    "            self.flops = 11.3*1024**3\n",
    "            self.t_fw = 0.24\n",
    "            self.t_bw = self.t_fw*2\n",
    "            self.t_cpu = 0.05\n",
    "        if name == 'vgg16':\n",
    "            self.weights = 528*1024**2\n",
    "            self.flops = 15.5*1024**3\n",
    "            self.t_fw = 0.14\n",
    "            self.t_bw = self.t_fw*2\n",
    "            self.t_cpu = 0.22\n",
    "        if name == 'alexnet':\n",
    "            self.weights = 233*1024**2\n",
    "            self.flops = 0.7*1024**3\n",
    "            self.t_fw = 0.01\n",
    "            self.t_bw = self.t_fw*2\n",
    "            self.t_cpu = 0.14"
   ]
  },
  {
   "cell_type": "code",
   "execution_count": 8,
   "metadata": {},
   "outputs": [],
   "source": [
    "class Benchmark(object):    \n",
    "    def __init__(self, machine, application):\n",
    "        self.machine = machine\n",
    "        self.app = application\n",
    "        self.t_pcie = 0\n",
    "        self.t_net = 0\n",
    "        self.t_comm = 0\n",
    "        self.t_gpu = 0\n",
    "        self.t_step = 0\n",
    "        self.batch_size = 64\n",
    "        self.t_cpu = app.t_cpu\n",
    "        \n",
    "    def run(self, strategy):\n",
    "        if strategy == 'ps':         \n",
    "            self.t_pcie = app.weights / (machine.bw_h2d/machine.num_gpus) + app.weights / (machine.bw_d2h/machine.num_gpus)\n",
    "            self.t_net = 0\n",
    "            self.t_p2p = 0\n",
    "            self.t_comm = self.t_pcie + self.t_net\n",
    "            self.t_gpu = app.t_fw * machine.base_gpu_sp_flops / machine.gpu_sp_flops\n",
    "            self.t_step = self.t_cpu + self.t_gpu + self.t_comm \n",
    "        elif strategy == 'xring':\n",
    "            self.t_p2p = 2*(machine.num_gpus-1)*((app.weights/machine.num_gpus) / machine.bw_p2p)\n",
    "            self.t_net = 0\n",
    "            self.t_pcie = 0 \n",
    "            self.t_comm = self.t_pcie + self.t_net\n",
    "            self.t_gpu = app.t_fw * machine.base_gpu_sp_flops / machine.gpu_sp_flops \n",
    "            self.t_step = self.t_cpu + self.t_gpu + self.t_comm \n",
    "        self.throughput = machine.num_gpus * self.batch_size / self.t_step\n",
    "                \n",
    "    def info(self):\n",
    "        print(self.name)\n",
    "        print(self.weights)\n",
    "        print(self.flops)\n",
    "        print('')    "
   ]
  },
  {
   "cell_type": "code",
   "execution_count": 9,
   "metadata": {},
   "outputs": [],
   "source": [
    "machines = []\n",
    "machines.append( Machine(name='HGX-1', num_gpus=1))\n",
    "machines.append( Machine(name='HGX-1', num_gpus=8))\n",
    "machines.append( Machine(name='HGX-2', num_gpus=16))\n",
    "machines.append( Machine('StarWars', num_gpus=1))\n",
    "machines.append( Machine('StarWars', num_gpus=8))\n",
    "\n",
    "\n",
    "apps = []\n",
    "apps.append(Application('resnet50'))\n",
    "apps.append(Application('inceptionv3'))\n",
    "apps.append(Application('alexnet'))\n",
    "apps.append(Application('vgg16'))\n",
    "apps.append(Application('resnet152'))"
   ]
  },
  {
   "cell_type": "code",
   "execution_count": 3,
   "metadata": {},
   "outputs": [
    {
     "ename": "NameError",
     "evalue": "name 'apps' is not defined",
     "output_type": "error",
     "traceback": [
      "\u001b[0;31m---------------------------------------------------------------------------\u001b[0m",
      "\u001b[0;31mNameError\u001b[0m                                 Traceback (most recent call last)",
      "\u001b[0;32m<ipython-input-3-e18be264f446>\u001b[0m in \u001b[0;36m<module>\u001b[0;34m\u001b[0m\n\u001b[1;32m      1\u001b[0m \u001b[0mresults\u001b[0m \u001b[0;34m=\u001b[0m \u001b[0;34m[\u001b[0m\u001b[0;34m]\u001b[0m\u001b[0;34m\u001b[0m\u001b[0;34m\u001b[0m\u001b[0m\n\u001b[1;32m      2\u001b[0m \u001b[0m_id\u001b[0m \u001b[0;34m=\u001b[0m \u001b[0;36m0\u001b[0m\u001b[0;34m\u001b[0m\u001b[0;34m\u001b[0m\u001b[0m\n\u001b[0;32m----> 3\u001b[0;31m \u001b[0;32mfor\u001b[0m \u001b[0mapp\u001b[0m \u001b[0;32min\u001b[0m \u001b[0mapps\u001b[0m\u001b[0;34m:\u001b[0m\u001b[0;34m\u001b[0m\u001b[0;34m\u001b[0m\u001b[0m\n\u001b[0m\u001b[1;32m      4\u001b[0m     \u001b[0mbase_benchmark\u001b[0m \u001b[0;34m=\u001b[0m \u001b[0;32mNone\u001b[0m\u001b[0;34m\u001b[0m\u001b[0;34m\u001b[0m\u001b[0m\n\u001b[1;32m      5\u001b[0m     \u001b[0;32mfor\u001b[0m \u001b[0mmachine\u001b[0m \u001b[0;32min\u001b[0m \u001b[0mmachines\u001b[0m\u001b[0;34m:\u001b[0m\u001b[0;34m\u001b[0m\u001b[0;34m\u001b[0m\u001b[0m\n",
      "\u001b[0;31mNameError\u001b[0m: name 'apps' is not defined"
     ]
    }
   ],
   "source": [
    "results = []\n",
    "_id = 0\n",
    "for app in apps:   \n",
    "    base_benchmark = None\n",
    "    for machine in machines:\n",
    "        _id = _id + 1\n",
    "        benchmark = Benchmark(machine, app)\n",
    "        benchmark.run('xring')\n",
    "        if machine.name == 'HGX-1' and machine.num_gpus == 1:\n",
    "            base_benchmark = benchmark \n",
    "        speedup = 1\n",
    "        discount = 1\n",
    "        #speedup = benchmark.throughput / base_benchmark.throughput\n",
    "        #discount = benchmark.price / base_benchmark.price\n",
    "        results.append( [_id,\n",
    "                         machine.name,\n",
    "                         machine.num_gpus,\n",
    "                         app.name,        \n",
    "                         app.weights,   \n",
    "                         benchmark.t_cpu, \n",
    "                         benchmark.t_gpu, \n",
    "                         benchmark.t_comm, \n",
    "                         benchmark.t_step, \n",
    "                         benchmark.throughput,\n",
    "                         machine.price,\n",
    "                         benchmark.throughput/machine.price\n",
    "                        ])"
   ]
  },
  {
   "cell_type": "code",
   "execution_count": 4,
   "metadata": {},
   "outputs": [
    {
     "ename": "NameError",
     "evalue": "name 'pd' is not defined",
     "output_type": "error",
     "traceback": [
      "\u001b[0;31m---------------------------------------------------------------------------\u001b[0m",
      "\u001b[0;31mNameError\u001b[0m                                 Traceback (most recent call last)",
      "\u001b[0;32m<ipython-input-4-96fe635bc409>\u001b[0m in \u001b[0;36m<module>\u001b[0;34m\u001b[0m\n\u001b[1;32m     12\u001b[0m            \u001b[0;34m'Price ($)'\u001b[0m\u001b[0;34m,\u001b[0m\u001b[0;34m\u001b[0m\u001b[0;34m\u001b[0m\u001b[0m\n\u001b[1;32m     13\u001b[0m            'C/P value']\n\u001b[0;32m---> 14\u001b[0;31m \u001b[0mdf\u001b[0m \u001b[0;34m=\u001b[0m \u001b[0mpd\u001b[0m\u001b[0;34m.\u001b[0m\u001b[0mDataFrame\u001b[0m\u001b[0;34m(\u001b[0m\u001b[0mresults\u001b[0m\u001b[0;34m,\u001b[0m \u001b[0mcolumns\u001b[0m\u001b[0;34m=\u001b[0m\u001b[0mcolumns\u001b[0m\u001b[0;34m)\u001b[0m\u001b[0;34m\u001b[0m\u001b[0;34m\u001b[0m\u001b[0m\n\u001b[0m\u001b[1;32m     15\u001b[0m \u001b[0mpd\u001b[0m\u001b[0;34m.\u001b[0m\u001b[0mset_option\u001b[0m\u001b[0;34m(\u001b[0m\u001b[0;34m'display.max_columns'\u001b[0m\u001b[0;34m,\u001b[0m \u001b[0;36m500\u001b[0m\u001b[0;34m)\u001b[0m\u001b[0;34m\u001b[0m\u001b[0;34m\u001b[0m\u001b[0m\n\u001b[1;32m     16\u001b[0m \u001b[0mpd\u001b[0m\u001b[0;34m.\u001b[0m\u001b[0mset_option\u001b[0m\u001b[0;34m(\u001b[0m\u001b[0;34m'display.width'\u001b[0m\u001b[0;34m,\u001b[0m \u001b[0;36m1000\u001b[0m\u001b[0;34m)\u001b[0m\u001b[0;34m\u001b[0m\u001b[0;34m\u001b[0m\u001b[0m\n",
      "\u001b[0;31mNameError\u001b[0m: name 'pd' is not defined"
     ]
    }
   ],
   "source": [
    "# sample data\n",
    "columns = ['ID',\n",
    "           'Machine',\n",
    "           'GPUs',\n",
    "           'Model',\n",
    "           'ModelSize (MB)',\n",
    "           'CPU Time (s)',\n",
    "           'GPU Time (s)',\n",
    "           'COMM Time (s)',\n",
    "           'STEP time (s)',\n",
    "           'Throughput (imgs/s)',\n",
    "           'Price ($)',\n",
    "           'C/P value']\n",
    "df = pd.DataFrame(results, columns=columns)\n",
    "pd.set_option('display.max_columns', 500)\n",
    "pd.set_option('display.width', 1000)\n",
    "df.to_csv('report.csv')\n",
    "print(df)\n"
   ]
  },
  {
   "cell_type": "code",
   "execution_count": 31,
   "metadata": {},
   "outputs": [
    {
     "data": {
      "text/plain": [
       "<matplotlib.axes._subplots.AxesSubplot at 0x118db5dd8>"
      ]
     },
     "execution_count": 31,
     "metadata": {},
     "output_type": "execute_result"
    },
    {
     "data": {
      "image/png": "[encoded data removed]",
      "text/plain": [
       "<Figure size 432x288 with 1 Axes>"
      ]
     },
     "metadata": {
      "needs_background": "light"
     },
     "output_type": "display_data"
    }
   ],
   "source": [
    "fig = plt.figure()\n",
    "df['Throughput (imgs/s)'].plot(kind='bar')"
   ]
  },
  {
   "cell_type": "code",
   "execution_count": null,
   "metadata": {},
   "outputs": [],
   "source": []
  },
  {
   "cell_type": "code",
   "execution_count": null,
   "metadata": {},
   "outputs": [],
   "source": []
  }
 ],
 "metadata": {
  "kernelspec": {
   "display_name": "Python 3",
   "language": "python",
   "name": "python3"
  },
  "language_info": {
   "codemirror_mode": {
    "name": "ipython",
    "version": 3
   },
   "file_extension": ".py",
   "mimetype": "text/x-python",
   "name": "python",
   "nbconvert_exporter": "python",
   "pygments_lexer": "ipython3",
   "version": "3.7.1"
  }
 },
 "nbformat": 4,
 "nbformat_minor": 4
}
