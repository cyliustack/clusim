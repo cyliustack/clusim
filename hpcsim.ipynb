{
 "cells": [
  {
   "cell_type": "markdown",
   "metadata": {},
   "source": [
    "This is a trace-driven simulator for HPC-Applicatoin Co-design"
   ]
  },
  {
   "cell_type": "code",
   "execution_count": 38,
   "metadata": {},
   "outputs": [],
   "source": [
    "import numpy\n",
    "import pandas\n",
    "import matplotlib.pyplot as plt\n",
    "import ipywidgets as widgets\n",
    "from IPython import display\n",
    "%matplotlib inline"
   ]
  },
  {
   "cell_type": "code",
   "execution_count": 39,
   "metadata": {},
   "outputs": [],
   "source": [
    "class Machine(object):\n",
    "    def __init__(self, name):\n",
    "        self.name = name\n",
    "        self.bw_h2d = 12*1024**3\n",
    "        self.bw_d2h = 12*1024**3\n",
    "        self.bw_net = 100*1024**3/8     \n",
    "\n",
    "    def info(self):\n",
    "        print(self.name)\n",
    "        print(self.bw_h2d)\n",
    "        print(self.bw_d2h)\n",
    "        print(self.bw_net)\n",
    "        print('')    "
   ]
  },
  {
   "cell_type": "code",
   "execution_count": 40,
   "metadata": {},
   "outputs": [],
   "source": [
    "class Application(object):\n",
    "    def __init__(self, name):\n",
    "        self.name = name\n",
    "        self.weights = 100*1024**2\n",
    "        self.flops = 1*1024**3\n",
    "        self.t_fw = 0.03\n",
    "        self.t_bw = 0.06\n",
    "        self.t_cpu = 0.01\n",
    "        self.t_comm = 0\n",
    "        self.t_pcie = 0 \n",
    "        self.t_net = 0\n",
    "\n",
    "    def info(self):\n",
    "        print(self.name)\n",
    "        print(self.weights)\n",
    "        print(self.flops)\n",
    "        print('')    "
   ]
  },
  {
   "cell_type": "code",
   "execution_count": 41,
   "metadata": {},
   "outputs": [
    {
     "name": "stdout",
     "output_type": "stream",
     "text": [
      "starwars\n",
      "12884901888\n",
      "12884901888\n",
      "13421772800.0\n",
      "\n"
     ]
    }
   ],
   "source": [
    "machine = Machine('starwars')\n",
    "app = Application('resnet50')\n",
    "\n",
    "app.t_pcie = app.weights/machine.bw_d2h + app.weights/machine.bw_d2h\n",
    "app.t_net = 2*app.weights/machine.bw_net\n",
    "app.t_comm = app.t_pcie + app.t_net\n",
    "machine.info()"
   ]
  },
  {
   "cell_type": "code",
   "execution_count": 42,
   "metadata": {},
   "outputs": [
    {
     "data": {
      "text/html": [
       "<div>\n",
       "<style scoped>\n",
       "    .dataframe tbody tr th:only-of-type {\n",
       "        vertical-align: middle;\n",
       "    }\n",
       "\n",
       "    .dataframe tbody tr th {\n",
       "        vertical-align: top;\n",
       "    }\n",
       "\n",
       "    .dataframe thead th {\n",
       "        text-align: right;\n",
       "    }\n",
       "</style>\n",
       "<table border=\"1\" class=\"dataframe\">\n",
       "  <thead>\n",
       "    <tr style=\"text-align: right;\">\n",
       "      <th></th>\n",
       "      <th>0</th>\n",
       "      <th>1</th>\n",
       "      <th>2</th>\n",
       "    </tr>\n",
       "  </thead>\n",
       "  <tbody>\n",
       "    <tr>\n",
       "      <th>0</th>\n",
       "      <td>-0.313986</td>\n",
       "      <td>0.650830</td>\n",
       "      <td>-0.973397</td>\n",
       "    </tr>\n",
       "    <tr>\n",
       "      <th>1</th>\n",
       "      <td>-0.122933</td>\n",
       "      <td>0.863233</td>\n",
       "      <td>1.303605</td>\n",
       "    </tr>\n",
       "    <tr>\n",
       "      <th>2</th>\n",
       "      <td>1.033538</td>\n",
       "      <td>-0.242055</td>\n",
       "      <td>-0.237170</td>\n",
       "    </tr>\n",
       "    <tr>\n",
       "      <th>3</th>\n",
       "      <td>1.504011</td>\n",
       "      <td>-3.392660</td>\n",
       "      <td>-0.109389</td>\n",
       "    </tr>\n",
       "    <tr>\n",
       "      <th>4</th>\n",
       "      <td>2.087090</td>\n",
       "      <td>2.651631</td>\n",
       "      <td>-0.235421</td>\n",
       "    </tr>\n",
       "    <tr>\n",
       "      <th>5</th>\n",
       "      <td>0.367488</td>\n",
       "      <td>-0.065280</td>\n",
       "      <td>0.381872</td>\n",
       "    </tr>\n",
       "    <tr>\n",
       "      <th>6</th>\n",
       "      <td>0.422893</td>\n",
       "      <td>-0.152419</td>\n",
       "      <td>1.456548</td>\n",
       "    </tr>\n",
       "    <tr>\n",
       "      <th>7</th>\n",
       "      <td>-1.137740</td>\n",
       "      <td>-0.277758</td>\n",
       "      <td>0.372482</td>\n",
       "    </tr>\n",
       "  </tbody>\n",
       "</table>\n",
       "</div>"
      ],
      "text/plain": [
       "          0         1         2\n",
       "0 -0.313986  0.650830 -0.973397\n",
       "1 -0.122933  0.863233  1.303605\n",
       "2  1.033538 -0.242055 -0.237170\n",
       "3  1.504011 -3.392660 -0.109389\n",
       "4  2.087090  2.651631 -0.235421\n",
       "5  0.367488 -0.065280  0.381872\n",
       "6  0.422893 -0.152419  1.456548\n",
       "7 -1.137740 -0.277758  0.372482"
      ]
     },
     "metadata": {},
     "output_type": "display_data"
    },
    {
     "data": {
      "text/html": [
       "<div>\n",
       "<style scoped>\n",
       "    .dataframe tbody tr th:only-of-type {\n",
       "        vertical-align: middle;\n",
       "    }\n",
       "\n",
       "    .dataframe tbody tr th {\n",
       "        vertical-align: top;\n",
       "    }\n",
       "\n",
       "    .dataframe thead th {\n",
       "        text-align: right;\n",
       "    }\n",
       "</style>\n",
       "<table border=\"1\" class=\"dataframe\">\n",
       "  <thead>\n",
       "    <tr style=\"text-align: right;\">\n",
       "      <th></th>\n",
       "      <th>0</th>\n",
       "      <th>1</th>\n",
       "      <th>2</th>\n",
       "    </tr>\n",
       "  </thead>\n",
       "  <tbody>\n",
       "    <tr>\n",
       "      <th>0</th>\n",
       "      <td>-2.236064</td>\n",
       "      <td>1.053882</td>\n",
       "      <td>2.242917</td>\n",
       "    </tr>\n",
       "    <tr>\n",
       "      <th>1</th>\n",
       "      <td>-0.368634</td>\n",
       "      <td>0.248600</td>\n",
       "      <td>-0.788412</td>\n",
       "    </tr>\n",
       "    <tr>\n",
       "      <th>2</th>\n",
       "      <td>0.880419</td>\n",
       "      <td>-0.058374</td>\n",
       "      <td>1.499123</td>\n",
       "    </tr>\n",
       "    <tr>\n",
       "      <th>3</th>\n",
       "      <td>-0.882660</td>\n",
       "      <td>-0.547144</td>\n",
       "      <td>-0.225818</td>\n",
       "    </tr>\n",
       "    <tr>\n",
       "      <th>4</th>\n",
       "      <td>0.565736</td>\n",
       "      <td>1.302275</td>\n",
       "      <td>0.225919</td>\n",
       "    </tr>\n",
       "    <tr>\n",
       "      <th>5</th>\n",
       "      <td>-1.000201</td>\n",
       "      <td>-0.704068</td>\n",
       "      <td>-0.049689</td>\n",
       "    </tr>\n",
       "    <tr>\n",
       "      <th>6</th>\n",
       "      <td>0.817737</td>\n",
       "      <td>1.333973</td>\n",
       "      <td>-0.991746</td>\n",
       "    </tr>\n",
       "    <tr>\n",
       "      <th>7</th>\n",
       "      <td>0.481600</td>\n",
       "      <td>-0.770948</td>\n",
       "      <td>1.406275</td>\n",
       "    </tr>\n",
       "  </tbody>\n",
       "</table>\n",
       "</div>"
      ],
      "text/plain": [
       "          0         1         2\n",
       "0 -2.236064  1.053882  2.242917\n",
       "1 -0.368634  0.248600 -0.788412\n",
       "2  0.880419 -0.058374  1.499123\n",
       "3 -0.882660 -0.547144 -0.225818\n",
       "4  0.565736  1.302275  0.225919\n",
       "5 -1.000201 -0.704068 -0.049689\n",
       "6  0.817737  1.333973 -0.991746\n",
       "7  0.481600 -0.770948  1.406275"
      ]
     },
     "metadata": {},
     "output_type": "display_data"
    }
   ],
   "source": [
    "# sample data\n",
    "df1 = pd.DataFrame(np.random.randn(8, 3))\n",
    "df2 = pd.DataFrame(np.random.randn(8, 3))\n",
    "\n",
    "# create output widgets\n",
    "widget1 = widgets.Output()\n",
    "widget2 = widgets.Output()\n",
    "\n",
    "# render in output widgets\n",
    "with widget1:\n",
    "    display.display(df1)\n",
    "with widget2:\n",
    "    display.display(df2)\n",
    "\n",
    "# create HBox\n",
    "hbox = widgets.VBox([widget1, widget2])\n",
    "\n",
    "# render hbox\n",
    "#hbox"
   ]
  },
  {
   "cell_type": "code",
   "execution_count": 43,
   "metadata": {},
   "outputs": [
    {
     "data": {
      "text/plain": [
       "<matplotlib.axes._subplots.AxesSubplot at 0x7f6ab2e70c18>"
      ]
     },
     "execution_count": 43,
     "metadata": {},
     "output_type": "execute_result"
    },
    {
     "data": {
      "text/plain": [
       "<Figure size 432x288 with 0 Axes>"
      ]
     },
     "metadata": {},
     "output_type": "display_data"
    },
    {
     "data": {
      "image/png": "[encoded data removed]",
      "text/plain": [
       "<Figure size 432x288 with 1 Axes>"
      ]
     },
     "metadata": {
      "needs_background": "light"
     },
     "output_type": "display_data"
    }
   ],
   "source": [
    "fig = plt.figure()\n",
    "df1.plot.box()\n"
   ]
  },
  {
   "cell_type": "code",
   "execution_count": null,
   "metadata": {},
   "outputs": [],
   "source": []
  },
  {
   "cell_type": "code",
   "execution_count": null,
   "metadata": {},
   "outputs": [],
   "source": []
  },
  {
   "cell_type": "code",
   "execution_count": null,
   "metadata": {},
   "outputs": [],
   "source": []
  }
 ],
 "metadata": {
  "kernelspec": {
   "display_name": "Python 3",
   "language": "python",
   "name": "python3"
  },
  "language_info": {
   "codemirror_mode": {
    "name": "ipython",
    "version": 3
   },
   "file_extension": ".py",
   "mimetype": "text/x-python",
   "name": "python",
   "nbconvert_exporter": "python",
   "pygments_lexer": "ipython3",
   "version": "3.6.7"
  }
 },
 "nbformat": 4,
 "nbformat_minor": 4
}
