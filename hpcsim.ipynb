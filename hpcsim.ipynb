{
 "cells": [
  {
   "cell_type": "markdown",
   "metadata": {},
   "source": [
    "# Hybrid Measurement-Modeling-based Simulator for HPC-Applicatoin Co-design\n",
    "* Prepare HPCSim\n",
    "    - pip install numpy pandas matplotlib ipywidgets jupyterlab\n",
    "* Run \n",
    "    - launch jupyter-lab, and access IDE via browser\n",
    "    - open hpcsim.ipynb"
   ]
  },
  {
   "cell_type": "code",
   "execution_count": 1,
   "metadata": {},
   "outputs": [],
   "source": [
    "import numpy as np\n",
    "import pandas as pd\n",
    "import matplotlib.pyplot as plt\n",
    "import ipywidgets as widgets\n",
    "from IPython import display\n",
    "%matplotlib inline"
   ]
  },
  {
   "cell_type": "code",
   "execution_count": 2,
   "metadata": {},
   "outputs": [],
   "source": [
    "class Machine(object):\n",
    "    def __init__(self, name, num_gpus):\n",
    "        self.name = name\n",
    "        self.num_gpus = num_gpus\n",
    "        self.num_cpus = 2\n",
    "        self.num_vcores = self.num_cpus*18*2 # vcores = sockets/cores/threads\n",
    "        self.price = 0\n",
    "        self.items = {'v100':9000, 'p100':8000, 't4':4000, 'gold':5000}\n",
    "        if name == 'HGX-1':\n",
    "            self.gpu_type = 'v100'\n",
    "            self.cpu_type = 'gold'\n",
    "            self.bw_h2d = 10*1024**3\n",
    "            self.bw_d2h = 10*1024**3\n",
    "            self.bw_p2p = 22*1024**3\n",
    "            self.bw_net = 100*1024**3/8\n",
    "            self.gpu_hp_flops = 125*1000**4\n",
    "            self.gpu_sp_flops = 15.7*1000**4\n",
    "            self.gpu_dp_flops = 7.8*1000**4\n",
    "        if name == 'HGX-1-P':\n",
    "            self.gpu_type = 'p100'\n",
    "            self.cpu_type = 'gold'           \n",
    "            self.bw_h2d = 10*1024**3\n",
    "            self.bw_d2h = 10*1024**3\n",
    "            self.bw_net = 100*1024**3/8\n",
    "            self.bw_p2p = 18*1024**3\n",
    "            self.gpu_hp_flops = 21.2*1000**4\n",
    "            self.gpu_sp_flops = 10.6*1000**4\n",
    "            self.gpu_dp_flops = 5.3*1000**4\n",
    "        if name == 'StarWars':\n",
    "            self.gpu_type = 't4'\n",
    "            self.cpu_type = 'gold'\n",
    "            self.bw_h2d = 10*1024**3\n",
    "            self.bw_d2h = 10*1024**3\n",
    "            self.bw_p2p = 10*1024**3\n",
    "            self.bw_net =  100*1024**3/8\n",
    "            self.gpu_hp_flops = 65.0*1000**4\n",
    "            self.gpu_sp_flops = 8.1*1000**4\n",
    "            self.gpu_dp_flops = 8.1*1000**4\n",
    "        \n",
    "        self.price = self.num_gpus * self.items[self.gpu_type] + self.num_cpus * self.items[self.cpu_type]\n",
    "        \n",
    "        #Base Spec. for performance/CPV comparison\n",
    "        self.base_gpu_hp_flops = 125*1000**4\n",
    "        self.base_gpu_sp_flops = 15.7*1000**4\n",
    "        self.base_gpu_dp_flops = 7.8*1000**4\n",
    "        self.base_num_gpus = 8\n",
    "        self.base_num_cpus = 2*18*2 # vcores = sockets/cores/threads\n",
    "\n",
    "    def info(self):\n",
    "        print(self.name)\n",
    "        print(self.bw_h2d)\n",
    "        print(self.bw_d2h)\n",
    "        print(self.bw_net)\n",
    "        print('')    "
   ]
  },
  {
   "cell_type": "code",
   "execution_count": 3,
   "metadata": {},
   "outputs": [],
   "source": [
    "class Application(object):\n",
    "    def __init__(self, name):\n",
    "        self.name = name\n",
    "        self.weights = 0\n",
    "        self.flops = 0\n",
    "        self.t_fw = 0\n",
    "        self.t_bw = 0     \n",
    "        if name == 'resnet50':\n",
    "            self.weights = 98*1024**2\n",
    "            self.flops = 3.9*1024**3\n",
    "            self.t_fw = 0.06\n",
    "            self.t_bw = 0.12\n",
    "        if name == 'inceptionv3':\n",
    "            self.weights = 89*1024**2\n",
    "            self.flops = 6.0*1024**3\n",
    "            self.t_fw = 0.09\n",
    "            self.t_bw = 0.18\n",
    "        if name == 'resnet152':\n",
    "            self.weights = 230*1024**2\n",
    "            self.flops = 11.3*1024**3\n",
    "            self.t_fw = 0.14\n",
    "            self.t_bw = 0.28\n",
    "        if name == 'vgg16':\n",
    "            self.weights = 528*1024**2\n",
    "            self.flops = 15.5*1024**3\n",
    "            self.t_fw = 0.08\n",
    "            self.t_bw = 0.16\n",
    "        if name == 'alexnet':\n",
    "            self.weights = 233*1024**2\n",
    "            self.flops = 0.7*1024**3\n",
    "            self.t_fw = 0.01\n",
    "            self.t_bw = 0.02"
   ]
  },
  {
   "cell_type": "code",
   "execution_count": 4,
   "metadata": {},
   "outputs": [],
   "source": [
    "class Benchmark(object):    \n",
    "    def __init__(self, machine, application):\n",
    "        self.machine = machine\n",
    "        self.app = application\n",
    "        self.t_pcie = 0\n",
    "        self.t_net = 0\n",
    "        self.t_comm = 0\n",
    "        self.t_cpu = 0.01\n",
    "        self.t_gpu = 0\n",
    "        self.t_step = 0\n",
    "        self.batch_size = 64\n",
    "        \n",
    "    def run(self, strategy):\n",
    "        if strategy == 'ps':\n",
    "            self.t_pcie = app.weights / (machine.bw_h2d/machine.num_gpus) + app.weights / (machine.bw_d2h/machine.num_gpus)\n",
    "            self.t_net = 0\n",
    "            self.t_p2p = 0\n",
    "            self.t_comm = self.t_pcie + self.t_net\n",
    "            self.t_gpu = app.t_fw * machine.base_gpu_sp_flops / machine.gpu_sp_flops\n",
    "            self.t_step = self.t_cpu + self.t_gpu + self.t_comm \n",
    "        elif strategy == 'xring':\n",
    "            self.t_p2p = 2*(machine.num_gpus-1)*((app.weights/machine.num_gpus) / machine.bw_p2p)\n",
    "            self.t_net = 0\n",
    "            self.t_pcie = 0 \n",
    "            self.t_comm = self.t_pcie + self.t_net\n",
    "            self.t_gpu = app.t_fw * machine.base_gpu_sp_flops / machine.gpu_sp_flops \n",
    "            self.t_step = self.t_cpu + self.t_gpu + self.t_comm \n",
    "        self.throughput = machine.num_gpus * self.batch_size / self.t_step\n",
    "                \n",
    "    def info(self):\n",
    "        print(self.name)\n",
    "        print(self.weights)\n",
    "        print(self.flops)\n",
    "        print('')    "
   ]
  },
  {
   "cell_type": "code",
   "execution_count": 5,
   "metadata": {},
   "outputs": [],
   "source": [
    "machines = []\n",
    "machines.append( Machine(name='HGX-1', num_gpus=1))\n",
    "machines.append( Machine(name='HGX-1', num_gpus=8))\n",
    "machines.append( Machine('StarWars', num_gpus=1))\n",
    "machines.append( Machine('StarWars', num_gpus=8))\n",
    "\n",
    "apps = []\n",
    "apps.append(Application('resnet50'))\n",
    "apps.append(Application('inceptionv3'))\n",
    "apps.append(Application('alexnet'))\n",
    "apps.append(Application('vgg16'))\n",
    "apps.append(Application('resnet152'))"
   ]
  },
  {
   "cell_type": "code",
   "execution_count": 6,
   "metadata": {},
   "outputs": [],
   "source": [
    "results = []\n",
    "_id = 0\n",
    "for app in apps:   \n",
    "    base_benchmark = None\n",
    "    for machine in machines:\n",
    "        _id = _id + 1\n",
    "        benchmark = Benchmark(machine, app)\n",
    "        benchmark.run('ps')\n",
    "        if machine.name == 'HGX-1' and machine.num_gpus == 1:\n",
    "            base_benchmark = benchmark \n",
    "        speedup = 1\n",
    "        discount = 1\n",
    "        #speedup = benchmark.throughput / base_benchmark.throughput\n",
    "        #discount = benchmark.price / base_benchmark.price\n",
    "        results.append( [_id,\n",
    "                         machine.name,\n",
    "                         machine.num_gpus,\n",
    "                         app.name,        \n",
    "                         app.weights,   \n",
    "                         benchmark.t_cpu, \n",
    "                         benchmark.t_gpu, \n",
    "                         benchmark.t_comm, \n",
    "                         benchmark.t_step, \n",
    "                         benchmark.throughput,\n",
    "                         machine.price,\n",
    "                         benchmark.throughput/machine.price\n",
    "                        ])"
   ]
  },
  {
   "cell_type": "code",
   "execution_count": 7,
   "metadata": {},
   "outputs": [
    {
     "name": "stdout",
     "output_type": "stream",
     "text": [
      "    ID   Machine  GPUs        Model  ModelSize (MB)  CPU Time (s)  GPU Time (s)  COMM Time (s)  STEP time (s)  Throughput (imgs/s)  Price ($)  C/P value\n",
      "0    1     HGX-1     1     resnet50       102760448          0.01      0.060000       0.019141       0.089141           717.966696      19000   0.037788\n",
      "1    2     HGX-1     8     resnet50       102760448          0.01      0.060000       0.153125       0.223125          2294.677871      82000   0.027984\n",
      "2    3  StarWars     1     resnet50       102760448          0.01      0.116296       0.019141       0.145437           440.053320      14000   0.031432\n",
      "3    4  StarWars     8     resnet50       102760448          0.01      0.116296       0.153125       0.279421          1832.358545      42000   0.043628\n",
      "4    5     HGX-1     1  inceptionv3        93323264          0.01      0.090000       0.017383       0.117383           545.224626      19000   0.028696\n",
      "5    6     HGX-1     8  inceptionv3        93323264          0.01      0.090000       0.139063       0.239063          2141.699346      82000   0.026118\n",
      "6    7  StarWars     1  inceptionv3        93323264          0.01      0.174444       0.017383       0.201827           317.102858      14000   0.022650\n",
      "7    8  StarWars     8  inceptionv3        93323264          0.01      0.174444       0.139063       0.323507          1582.655361      42000   0.037682\n",
      "8    9     HGX-1     1      alexnet       244318208          0.01      0.010000       0.045508       0.065508           976.982707      19000   0.051420\n",
      "9   10     HGX-1     8      alexnet       244318208          0.01      0.010000       0.364063       0.384063          1333.116355      82000   0.016258\n",
      "10  11  StarWars     1      alexnet       244318208          0.01      0.019383       0.045508       0.074891           854.580696      14000   0.061041\n",
      "11  12  StarWars     8      alexnet       244318208          0.01      0.019383       0.364063       0.393445          1301.324757      42000   0.030984\n",
      "12  13     HGX-1     1        vgg16       553648128          0.01      0.080000       0.103125       0.193125           331.391586      19000   0.017442\n",
      "13  14     HGX-1     8        vgg16       553648128          0.01      0.080000       0.825000       0.915000           559.562842      82000   0.006824\n",
      "14  15  StarWars     1        vgg16       553648128          0.01      0.155062       0.103125       0.268187           238.639698      14000   0.017046\n",
      "15  16  StarWars     8        vgg16       553648128          0.01      0.155062       0.825000       0.990062           517.139473      42000   0.012313\n",
      "16  17     HGX-1     1    resnet152       241172480          0.01      0.140000       0.044922       0.194922           328.336673      19000   0.017281\n",
      "17  18     HGX-1     8    resnet152       241172480          0.01      0.140000       0.359375       0.509375          1005.153374      82000   0.012258\n",
      "18  19  StarWars     1    resnet152       241172480          0.01      0.271358       0.044922       0.326280           196.150606      14000   0.014011\n",
      "19  20  StarWars     8    resnet152       241172480          0.01      0.271358       0.359375       0.640733           799.084767      42000   0.019026\n"
     ]
    }
   ],
   "source": [
    "# sample data\n",
    "columns = ['ID',\n",
    "           'Machine',\n",
    "           'GPUs',\n",
    "           'Model',\n",
    "           'ModelSize (MB)',\n",
    "           'CPU Time (s)',\n",
    "           'GPU Time (s)',\n",
    "           'COMM Time (s)',\n",
    "           'STEP time (s)',\n",
    "           'Throughput (imgs/s)',\n",
    "           'Price ($)',\n",
    "           'C/P value']\n",
    "df = pd.DataFrame(results, columns=columns)\n",
    "pd.set_option('display.max_columns', 500)\n",
    "pd.set_option('display.width', 1000)\n",
    "df.to_csv('report.csv')\n",
    "print(df)\n"
   ]
  },
  {
   "cell_type": "code",
   "execution_count": 8,
   "metadata": {},
   "outputs": [
    {
     "data": {
      "text/plain": [
       "<matplotlib.axes._subplots.AxesSubplot at 0x7f0653d070f0>"
      ]
     },
     "execution_count": 8,
     "metadata": {},
     "output_type": "execute_result"
    },
    {
     "data": {
      "image/png": "[encoded data removed]",
      "text/plain": [
       "<Figure size 432x288 with 1 Axes>"
      ]
     },
     "metadata": {
      "needs_background": "light"
     },
     "output_type": "display_data"
    }
   ],
   "source": [
    "fig = plt.figure()\n",
    "df['Throughput (imgs/s)'].plot(kind='bar')"
   ]
  },
  {
   "cell_type": "code",
   "execution_count": null,
   "metadata": {},
   "outputs": [],
   "source": []
  },
  {
   "cell_type": "code",
   "execution_count": null,
   "metadata": {},
   "outputs": [],
   "source": []
  }
 ],
 "metadata": {
  "kernelspec": {
   "display_name": "Python 3",
   "language": "python",
   "name": "python3"
  },
  "language_info": {
   "codemirror_mode": {
    "name": "ipython",
    "version": 3
   },
   "file_extension": ".py",
   "mimetype": "text/x-python",
   "name": "python",
   "nbconvert_exporter": "python",
   "pygments_lexer": "ipython3",
   "version": "3.6.7"
  }
 },
 "nbformat": 4,
 "nbformat_minor": 4
}
